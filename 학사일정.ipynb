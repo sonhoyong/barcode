{
  "nbformat": 4,
  "nbformat_minor": 0,
  "metadata": {
    "colab": {
      "provenance": [],
      "mount_file_id": "1deBxe8iplcodudUbt4CniFAiEjTP7wQv",
      "authorship_tag": "ABX9TyNOFOpfqpQSg4WH2BrP3uQP",
      "include_colab_link": true
    },
    "kernelspec": {
      "name": "python3",
      "display_name": "Python 3"
    },
    "language_info": {
      "name": "python"
    }
  },
  "cells": [
    {
      "cell_type": "markdown",
      "metadata": {
        "id": "view-in-github",
        "colab_type": "text"
      },
      "source": [
        "<a href=\"https://colab.research.google.com/github/sonhoyong/barcode/blob/main/%ED%95%99%EC%82%AC%EC%9D%BC%EC%A0%95.ipynb\" target=\"_parent\"><img src=\"https://colab.research.google.com/assets/colab-badge.svg\" alt=\"Open In Colab\"/></a>"
      ]
    },
    {
      "cell_type": "code",
      "source": [],
      "metadata": {
        "colab": {
          "base_uri": "https://localhost:8080/"
        },
        "id": "laiQB2nYLJq3",
        "outputId": "ca9b54e5-0ed2-4e65-d233-a8d646f1f9da"
      },
      "execution_count": null,
      "outputs": [
        {
          "output_type": "stream",
          "name": "stdout",
          "text": [
            "Drive already mounted at /content/drive; to attempt to forcibly remount, call drive.mount(\"/content/drive\", force_remount=True).\n",
            "학사일정 파일이 성공적으로 로드되었습니다.\n",
            "오늘 날짜: 2024-11-17\n",
            "몇 일 전에 알림을 받을지 입력하세요 (예: 2, 3): 24\n",
            "알림을 받을 이메일 주소를 입력하세요: a01071011154@gmail.com\n",
            "\n",
            "24일 후에 해당하는 일정이 없습니다.\n"
          ]
        }
      ]
    },
    {
      "cell_type": "code",
      "source": [
        "from google.colab import drive\n",
        "drive.mount('/content/drive')"
      ],
      "metadata": {
        "colab": {
          "base_uri": "https://localhost:8080/"
        },
        "id": "z8NuD7h4JZjU",
        "outputId": "e52d83af-c900-42bb-ff62-8103bd456a51"
      },
      "execution_count": null,
      "outputs": [
        {
          "output_type": "stream",
          "name": "stdout",
          "text": [
            "Mounted at /content/drive\n"
          ]
        }
      ]
    },
    {
      "cell_type": "code",
      "source": [
        "from google.colab import drive\n",
        "import pandas as pd\n",
        "from datetime import datetime, timedelta\n",
        "import smtplib\n",
        "from email.mime.text import MIMEText\n",
        "from email.mime.multipart import MIMEMultipart\n",
        "\n",
        "# Google Drive 마운트\n",
        "drive.mount('/content/drive')\n",
        "\n",
        "# 학사일정 파일 경로 설정 (Google Drive 경로)\n",
        "file_path = '/content/drive/MyDrive/학사일정.csv'\n",
        "\n",
        "# CSV 파일에서 학사일정을 로드하는 함수\n",
        "def load_academic_schedule(file_path):\n",
        "    df = pd.read_csv(file_path)\n",
        "    df = df[['학사일자', '행사명']]\n",
        "    df['학사일자'] = pd.to_datetime(df['학사일자'], format='%Y%m%d')\n",
        "    schedule = df.to_dict(orient='records')\n",
        "    return schedule\n",
        "\n",
        "# 특정 날짜에 해당하는 학사일정을 찾는 함수\n",
        "def get_schedule_on_date(schedule, target_date, notified_events):\n",
        "    \"\"\"\n",
        "    특정 날짜(target_date)에 해당하는 학사일정을 반환합니다.\n",
        "    중복된 이벤트는 제외합니다.\n",
        "    \"\"\"\n",
        "    events = []\n",
        "    for item in schedule:\n",
        "        if item['학사일자'].date() == target_date and item['행사명'] not in notified_events:\n",
        "            events.append(item['행사명'])\n",
        "    return events\n",
        "\n",
        "# 이메일 전송 함수\n",
        "def send_email(recipient, subject, body):\n",
        "    \"\"\"\n",
        "    주어진 내용을 이메일로 전송합니다.\n",
        "    \"\"\"\n",
        "    sender_email = \"a01071011154@gmail.com\"\n",
        "    sender_password = \"tiqh nbcm rfbe mgsr\"\n",
        "\n",
        "    try:\n",
        "        message = MIMEMultipart()\n",
        "        message[\"From\"] = sender_email\n",
        "        message[\"To\"] = recipient\n",
        "        message[\"Subject\"] = subject\n",
        "        message.attach(MIMEText(body, \"plain\"))\n",
        "\n",
        "        with smtplib.SMTP(\"smtp.gmail.com\", 587) as server:\n",
        "            server.starttls()\n",
        "            server.login(sender_email, sender_password)\n",
        "            server.send_message(message)\n",
        "\n",
        "        print(f\"이메일이 성공적으로 전송되었습니다: {recipient}\")\n",
        "    except Exception as e:\n",
        "        print(f\"이메일 전송 실패: {e}\")\n",
        "\n",
        "# 프로그램 실행\n",
        "def main():\n",
        "    # 학사일정 로드\n",
        "    schedule = load_academic_schedule(file_path)\n",
        "    print(\"학사일정 파일이 성공적으로 로드되었습니다.\")\n",
        "\n",
        "    # 현재 날짜 설정\n",
        "    current_date = datetime.now().date()\n",
        "    print(f\"오늘 날짜: {current_date}\")\n",
        "\n",
        "    # 사용자 입력: 알림 받을 이메일 주소\n",
        "    recipient_email = input(\"알림을 받을 이메일 주소를 입력하세요: \")\n",
        "\n",
        "    # 중복 알림 방지를 위한 세트\n",
        "    notified_events = set()\n",
        "\n",
        "    # 모든 학사일정에 대해 7일 전과 3일 전에 해당하는 일정 확인\n",
        "    for item in schedule:\n",
        "        event_date = item['학사일자'].date()  # 학사일정 날짜\n",
        "        event_name = item['행사명']  # 학사일정 이름\n",
        "\n",
        "        # 일주일 전 날짜 계산\n",
        "        if current_date == event_date - timedelta(days=7) and event_name not in notified_events:\n",
        "            email_body = f\"오늘은 {current_date}입니다. '{event_name}' 행사가 일주일 후에 있습니다 ({event_date}).\"\n",
        "            send_email(recipient_email, \"일주일 전 학사일정 알림\", email_body)\n",
        "            notified_events.add(event_name)  # 알림이 발송된 이벤트를 기록\n",
        "\n",
        "        # 3일 전 날짜 계산\n",
        "        if current_date == event_date - timedelta(days=3) and event_name not in notified_events:\n",
        "            email_body = f\"오늘은 {current_date}입니다. '{event_name}' 행사가 3일 후에 있습니다 ({event_date}).\"\n",
        "            send_email(recipient_email, \"3일 전 학사일정 알림\", email_body)\n",
        "            notified_events.add(event_name)  # 알림이 발송된 이벤트를 기록\n",
        "\n",
        "    # 크리스마스까지 남은 일수 계산\n",
        "    christmas_date = datetime(current_date.year, 12, 25).date()\n",
        "    days_until_christmas = (christmas_date - current_date).days\n",
        "\n",
        "    # 크리스마스 알림 이메일 전송\n",
        "    email_body = f\"오늘은 {current_date}입니다. 크리스마스까지 {days_until_christmas}일 남았습니다!\"\n",
        "    send_email(recipient_email, \"크리스마스까지 남은 일수 알림\", email_body)\n",
        "\n",
        "    # 방학식 날짜 설정\n",
        "    vacation_date = datetime(current_date.year, 1, 9).date()\n",
        "\n",
        "    # 방학식 날짜가 이미 지났으면 다음 해로 설정\n",
        "    if vacation_date < current_date:\n",
        "      vacation_date = datetime(current_date.year + 1, 1, 9).date()\n",
        "\n",
        "      # 방학식까지 남은 일수 계산\n",
        "      days_until_vacation = (vacation_date - current_date).days\n",
        "\n",
        "      # 방학식 알림 이메일 전송\n",
        "      email_body = f\"오늘은 {current_date}입니다. 방학식까지 {days_until_vacation}일 남았습니다!\"\n",
        "      send_email(recipient_email, \"방학식까지 남은 일수 알림\", email_body)\n",
        "\n",
        "\n",
        "\n",
        "\n",
        "\n",
        "    print(\"모든 일정에 대한 알림이 완료되었습니다.\")\n",
        "\n",
        "# 프로그램 시작\n",
        "if __name__ == \"__main__\":\n",
        "    main()\n"
      ],
      "metadata": {
        "colab": {
          "base_uri": "https://localhost:8080/"
        },
        "id": "otkOY_BEOPs4",
        "outputId": "e953ae66-407c-4b4f-8219-a1a43c294ae8"
      },
      "execution_count": null,
      "outputs": [
        {
          "output_type": "stream",
          "name": "stdout",
          "text": [
            "Drive already mounted at /content/drive; to attempt to forcibly remount, call drive.mount(\"/content/drive\", force_remount=True).\n",
            "학사일정 파일이 성공적으로 로드되었습니다.\n",
            "오늘 날짜: 2024-12-25\n",
            "알림을 받을 이메일 주소를 입력하세요: a01071011154@gmail.com\n",
            "이메일이 성공적으로 전송되었습니다: a01071011154@gmail.com\n",
            "이메일이 성공적으로 전송되었습니다: a01071011154@gmail.com\n",
            "이메일이 성공적으로 전송되었습니다: a01071011154@gmail.com\n",
            "모든 일정에 대한 알림이 완료되었습니다.\n"
          ]
        }
      ]
    }
  ]
}