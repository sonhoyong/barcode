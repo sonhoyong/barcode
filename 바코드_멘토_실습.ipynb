{
  "nbformat": 4,
  "nbformat_minor": 0,
  "metadata": {
    "colab": {
      "provenance": [],
      "authorship_tag": "ABX9TyOwPw5FtwsFEcaNVTecziGm",
      "include_colab_link": true
    },
    "kernelspec": {
      "name": "python3",
      "display_name": "Python 3"
    },
    "language_info": {
      "name": "python"
    }
  },
  "cells": [
    {
      "cell_type": "markdown",
      "metadata": {
        "id": "view-in-github",
        "colab_type": "text"
      },
      "source": [
        "<a href=\"https://colab.research.google.com/github/sonhoyong/barcode/blob/main/%EB%B0%94%EC%BD%94%EB%93%9C_%EB%A9%98%ED%86%A0_%EC%8B%A4%EC%8A%B5.ipynb\" target=\"_parent\"><img src=\"https://colab.research.google.com/assets/colab-badge.svg\" alt=\"Open In Colab\"/></a>"
      ]
    },
    {
      "cell_type": "code",
      "execution_count": null,
      "metadata": {
        "colab": {
          "base_uri": "https://localhost:8080/"
        },
        "id": "BgaPjxt2KFwA",
        "outputId": "cc932279-b2fc-4f79-ea05-75910e7217aa"
      },
      "outputs": [
        {
          "output_type": "stream",
          "name": "stdout",
          "text": [
            "           날짜    행사\n",
            "0  2024-08-20    시험\n",
            "1  2024-11-23   운동회\n",
            "2  2024-12-01    시험\n",
            "3  2024-12-25  겨울방학\n",
            "시험과 관련된 일정:\n",
            "           날짜  행사\n",
            "0  2024-08-20  시험\n",
            "2  2024-12-01  시험\n"
          ]
        }
      ],
      "source": [
        "import pandas as pd\n",
        "\n",
        "# CSV 파일 읽기\n",
        "df = pd.DataFrame({\n",
        "    \"날짜\": [\"2024-08-20\", \"2024-11-23\", \"2024-12-01\", \"2024-12-25\"],\n",
        "    \"행사\": [\"시험\", \"운동회\", \"시험\", \"겨울방학\"]\n",
        "})\n",
        "\n",
        "# 데이터 확인\n",
        "print(df)\n",
        "\n",
        "# 특정 행사만 필터링\n",
        "filtered = df[df['행사'] == '시험']\n",
        "print(\"시험과 관련된 일정:\")\n",
        "print(filtered)"
      ]
    },
    {
      "cell_type": "code",
      "source": [
        "from datetime import datetime, timedelta\n",
        " # 현재 날짜\n",
        "today = datetime.now().date()\n",
        "time = datetime.now().time()\n",
        "print(\"오늘 날짜:\", today)\n",
        " #오늘 시간\n",
        "#시간이 다르게 나오는이유: 구글 코렙에서 사용하는 시간은 서버의 기본시간을 따름\n",
        "#일반적으로 UTC (Coordinated Universal Time), 즉 세계 표준시를 기준으로 설정\n",
        "print(\"현재 시간:\", time)\n",
        " # 날짜 계산\n",
        "seven_days_later = today + timedelta(days=7)\n",
        "print(\"7일 후 날짜:\", seven_days_later)\n",
        " # 2025년 1월1일과 비교\n",
        "specific_date = datetime( 2025, 1, 1).date()\n",
        "days_difference = (specific_date- today).days\n",
        "print(f\"{specific_date}까지 {days_difference}일 남았습니다.\")"
      ],
      "metadata": {
        "id": "rmZUOqfMNaSs",
        "colab": {
          "base_uri": "https://localhost:8080/"
        },
        "outputId": "e73f9029-6b1b-44ab-899e-6d002c07f6cf"
      },
      "execution_count": 1,
      "outputs": [
        {
          "output_type": "stream",
          "name": "stdout",
          "text": [
            "오늘 날짜: 2024-12-25\n",
            "현재 시간: 17:39:42.319951\n",
            "7일 후 날짜: 2025-01-01\n",
            "2025-01-01까지 7일 남았습니다.\n"
          ]
        }
      ]
    },
    {
      "cell_type": "code",
      "source": [
        "import smtplib\n",
        "from email.mime.text import MIMEText\n",
        "\n",
        "# 이메일 설정\n",
        "sender_email = \"a01071011154@gmail.com\"\n",
        "receiver_email = \"a01071011154@gmail.com\"\n",
        "password = \"cnfi xpyt khrn gyju\"\n",
        "\n",
        "# 이메일 내용\n",
        "subject = \"테스트 이메일\"\n",
        "body = \"이것은 테스트 이메일입니다.\"\n",
        "message = MIMEText(body, \"plain\")\n",
        "message[\"Subject\"] = subject\n",
        "message[\"From\"] = sender_email\n",
        "message[\"To\"] = receiver_email\n",
        "\n",
        "# 이메일 전송\n",
        "with smtplib.SMTP(\"smtp.gmail.com\", 587) as server:\n",
        "    server.starttls()\n",
        "    server.login(sender_email, password)\n",
        "    server.send_message(message)\n",
        "\n",
        "print(\"이메일이 성공적으로 전송되었습니다.\")\n"
      ],
      "metadata": {
        "colab": {
          "base_uri": "https://localhost:8080/"
        },
        "id": "3qRNTXosSeoe",
        "outputId": "891e1f80-9700-4417-d512-d693bae40778"
      },
      "execution_count": null,
      "outputs": [
        {
          "output_type": "stream",
          "name": "stdout",
          "text": [
            "이메일이 성공적으로 전송되었습니다.\n"
          ]
        }
      ]
    }
  ]
}